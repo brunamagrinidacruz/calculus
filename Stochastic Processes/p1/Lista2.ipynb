{
 "cells": [
  {
   "cell_type": "code",
   "execution_count": 1,
   "id": "nuclear-reputation",
   "metadata": {},
   "outputs": [],
   "source": [
    "import numpy as np"
   ]
  },
  {
   "cell_type": "code",
   "execution_count": 11,
   "id": "hourly-antarctica",
   "metadata": {},
   "outputs": [
    {
     "name": "stdout",
     "output_type": "stream",
     "text": [
      "[[0.61 0.39]\n",
      " [0.52 0.48]]\n",
      "[[0.61 0.39]\n",
      " [0.52 0.48]]\n",
      "[[0.5749 0.4251]\n",
      " [0.5668 0.4332]]\n"
     ]
    }
   ],
   "source": [
    "# Exemplo do Introduction to Probability Theory na página 188\n",
    "\n",
    "m = np.array([\n",
    "    [0.7, 0.3],\n",
    "    [0.4, 0.6]\n",
    "])\n",
    "\n",
    "print(np.dot(m, m))\n",
    "print(np.linalg.matrix_power(m, 2))\n",
    "\n",
    "print(np.linalg.matrix_power(m, 4))"
   ]
  },
  {
   "cell_type": "code",
   "execution_count": 29,
   "id": "moral-pencil",
   "metadata": {},
   "outputs": [
    {
     "name": "stdout",
     "output_type": "stream",
     "text": [
      "[[0.54 0.26 0.2 ]\n",
      " [0.2  0.36 0.44]\n",
      " [0.6  0.1  0.3 ]]\n"
     ]
    }
   ],
   "source": [
    "# Exercicio 1\n",
    "\n",
    "m = np.array([\n",
    "    [0.7, 0.2, 0.1],\n",
    "    [0.0, 0.6, 0.4],\n",
    "    [0.5, 0.0, 0.5]\n",
    "])\n",
    "\n",
    "print(np.linalg.matrix_power(m, 2))"
   ]
  },
  {
   "cell_type": "code",
   "execution_count": 17,
   "id": "informational-field",
   "metadata": {},
   "outputs": [
    {
     "name": "stdout",
     "output_type": "stream",
     "text": [
      "[[0.375  0.3125 0.3125]\n",
      " [0.3125 0.375  0.3125]\n",
      " [0.3125 0.3125 0.375 ]]\n"
     ]
    }
   ],
   "source": [
    "# Exercicio 4 \n",
    "\n",
    "m = np.array([\n",
    "    [0, 1/2, 1/2],\n",
    "    [1/2, 0, 1/2],\n",
    "    [1/2, 1/2, 0]\n",
    "])\n",
    "\n",
    "print(np.linalg.matrix_power(m, 4))"
   ]
  },
  {
   "cell_type": "code",
   "execution_count": 28,
   "id": "streaming-pennsylvania",
   "metadata": {},
   "outputs": [
    {
     "name": "stdout",
     "output_type": "stream",
     "text": [
      "[[0.44 0.18 0.38]\n",
      " [0.4  0.19 0.41]\n",
      " [0.4  0.18 0.42]]\n",
      "0.42000000000000004\n",
      "[[0.412 0.182 0.406]\n",
      " [0.42  0.181 0.399]\n",
      " [0.42  0.182 0.398]]\n",
      "0.416\n"
     ]
    }
   ],
   "source": [
    "# Exercicio 5\n",
    "\n",
    "m = np.array([\n",
    "    [0.3, 0.2, 0.5],\n",
    "    [0.5, 0.1, 0.4],\n",
    "    [0.5, 0.2, 0.3]\n",
    "])\n",
    "\n",
    "print(np.linalg.matrix_power(m, 2))\n",
    "print(0.44 * 0.5 + 0.4 * 0.5)\n",
    "\n",
    "print(np.linalg.matrix_power(m, 3))\n",
    "print(0.412 * 0.5 + 0.42 * 0.5)"
   ]
  },
  {
   "cell_type": "code",
   "execution_count": 31,
   "id": "italic-bobby",
   "metadata": {},
   "outputs": [
    {
     "name": "stdout",
     "output_type": "stream",
     "text": [
      "[[0.475 0.525]\n",
      " [0.6   0.4  ]]\n",
      "0.4625\n"
     ]
    }
   ],
   "source": [
    "# Exercicio 6\n",
    "\n",
    "m = np.array([\n",
    "    [0.3, 0.7],\n",
    "    [0.8, 0.2]\n",
    "])\n",
    "\n",
    "print(np.linalg.matrix_power(m, 3))\n",
    "print(0.525 * 0.5 + 0.4 * 0.5)"
   ]
  }
 ],
 "metadata": {
  "kernelspec": {
   "display_name": "Python 3",
   "language": "python",
   "name": "python3"
  },
  "language_info": {
   "codemirror_mode": {
    "name": "ipython",
    "version": 3
   },
   "file_extension": ".py",
   "mimetype": "text/x-python",
   "name": "python",
   "nbconvert_exporter": "python",
   "pygments_lexer": "ipython3",
   "version": "3.8.5"
  }
 },
 "nbformat": 4,
 "nbformat_minor": 5
}
