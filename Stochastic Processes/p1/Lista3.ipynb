{
 "cells": [
  {
   "cell_type": "code",
   "execution_count": 2,
   "id": "prompt-adobe",
   "metadata": {},
   "outputs": [],
   "source": [
    "import numpy as np"
   ]
  },
  {
   "cell_type": "code",
   "execution_count": 6,
   "id": "moved-dutch",
   "metadata": {},
   "outputs": [
    {
     "name": "stdout",
     "output_type": "stream",
     "text": [
      "[[0.82002258 0.17997742]\n",
      " [0.71990967 0.28009033]]\n"
     ]
    }
   ],
   "source": [
    "# Exercicio 9\n",
    "\n",
    "m = np.array([\n",
    "    [0.95, 0.05],\n",
    "    [0.2, 0.8]\n",
    "])\n",
    "\n",
    "print(np.linalg.matrix_power(m, 8))"
   ]
  },
  {
   "cell_type": "code",
   "execution_count": 8,
   "id": "inappropriate-banana",
   "metadata": {},
   "outputs": [
    {
     "name": "stdout",
     "output_type": "stream",
     "text": [
      "[[0.  1.  0.  0.  0.  0. ]\n",
      " [0.5 0.  0.5 0.  0.  0. ]\n",
      " [0.  0.5 0.  0.5 0.  0. ]\n",
      " [0.  0.  0.5 0.  0.5 0. ]\n",
      " [0.  0.  0.  0.5 0.  0.5]\n",
      " [0.  0.  0.  0.  1.  0. ]]\n",
      "[[0.5  0.   0.5  0.   0.   0.  ]\n",
      " [0.   0.75 0.   0.25 0.   0.  ]\n",
      " [0.25 0.   0.5  0.   0.25 0.  ]\n",
      " [0.   0.25 0.   0.5  0.   0.25]\n",
      " [0.   0.   0.25 0.   0.75 0.  ]\n",
      " [0.   0.   0.   0.5  0.   0.5 ]]\n",
      "[[0.    0.75  0.    0.25  0.    0.   ]\n",
      " [0.375 0.    0.5   0.    0.125 0.   ]\n",
      " [0.    0.5   0.    0.375 0.    0.125]\n",
      " [0.125 0.    0.375 0.    0.5   0.   ]\n",
      " [0.    0.125 0.    0.5   0.    0.375]\n",
      " [0.    0.    0.25  0.    0.75  0.   ]]\n",
      "[[0.375  0.     0.5    0.     0.125  0.    ]\n",
      " [0.     0.625  0.     0.3125 0.     0.0625]\n",
      " [0.25   0.     0.4375 0.     0.3125 0.    ]\n",
      " [0.     0.3125 0.     0.4375 0.     0.25  ]\n",
      " [0.0625 0.     0.3125 0.     0.625  0.    ]\n",
      " [0.     0.125  0.     0.5    0.     0.375 ]]\n",
      "[[0.      0.625   0.      0.3125  0.      0.0625 ]\n",
      " [0.3125  0.      0.46875 0.      0.21875 0.     ]\n",
      " [0.      0.46875 0.      0.375   0.      0.15625]\n",
      " [0.15625 0.      0.375   0.      0.46875 0.     ]\n",
      " [0.      0.21875 0.      0.46875 0.      0.3125 ]\n",
      " [0.0625  0.      0.3125  0.      0.625   0.     ]]\n",
      "[[0.3125   0.       0.46875  0.       0.21875  0.      ]\n",
      " [0.       0.546875 0.       0.34375  0.       0.109375]\n",
      " [0.234375 0.       0.421875 0.       0.34375  0.      ]\n",
      " [0.       0.34375  0.       0.421875 0.       0.234375]\n",
      " [0.109375 0.       0.34375  0.       0.546875 0.      ]\n",
      " [0.       0.21875  0.       0.46875  0.       0.3125  ]]\n"
     ]
    }
   ],
   "source": [
    "# Prova 1\n",
    "\n",
    "p = 0.5\n",
    "q = 0.5\n",
    "\n",
    "m = np.array([\n",
    "    [0, 1, 0, 0, 0, 0],\n",
    "    [p, 0, 1-p, 0, 0, 0],\n",
    "    [0, p, 0, 1-p, 0, 0],\n",
    "    [0, 0, p, 0, 1-p, 0],\n",
    "    [0, 0, 0, p, 0, 1-p],\n",
    "    [0, 0, 0, 0, 1 ,0]\n",
    "])\n",
    "\n",
    "print(np.linalg.matrix_power(m, 1))\n",
    "print(np.linalg.matrix_power(m, 2))\n",
    "print(np.linalg.matrix_power(m, 3))\n",
    "print(np.linalg.matrix_power(m, 4))\n",
    "print(np.linalg.matrix_power(m, 5))\n",
    "print(np.linalg.matrix_power(m, 6))"
   ]
  }
 ],
 "metadata": {
  "kernelspec": {
   "display_name": "Python 3",
   "language": "python",
   "name": "python3"
  },
  "language_info": {
   "codemirror_mode": {
    "name": "ipython",
    "version": 3
   },
   "file_extension": ".py",
   "mimetype": "text/x-python",
   "name": "python",
   "nbconvert_exporter": "python",
   "pygments_lexer": "ipython3",
   "version": "3.8.5"
  }
 },
 "nbformat": 4,
 "nbformat_minor": 5
}
