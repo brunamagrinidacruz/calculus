{
  "nbformat": 4,
  "nbformat_minor": 0,
  "metadata": {
    "colab": {
      "name": "Potencia_PotInv.ipynb",
      "provenance": [],
      "collapsed_sections": []
    },
    "kernelspec": {
      "name": "python3",
      "display_name": "Python 3"
    },
    "language_info": {
      "name": "python"
    }
  },
  "cells": [
    {
      "cell_type": "code",
      "metadata": {
        "id": "v3y1iInqusS7",
        "colab": {
          "base_uri": "https://localhost:8080/"
        },
        "outputId": "443e1157-4791-4eb1-8cff-bbd4627d813d"
      },
      "source": [
        "import numpy as np\n",
        "from scipy import linalg as lin\n",
        "import math as m\n",
        "import matplotlib.pyplot as plt\n",
        "\n",
        "# Potência\n",
        "def potencia(A,tol):\n",
        "    k = 0; kmax = 10000; erro = np.inf;\n",
        "    n = np.shape(A)[0]; y0 = np.zeros(n); y0[0] = 1;\n",
        "\n",
        "    while(erro > tol and k < kmax):\n",
        "        x = A.dot(y0);\n",
        "        y = x/np.linalg.norm(x);\n",
        "        erro = np.abs(np.abs(y0.dot(y))-1);\n",
        "        y0 = y; k = k+1;\n",
        "    \n",
        "    lambda_ = y.dot(A.dot(y));\n",
        "    return lambda_, y, k\n",
        "\n",
        "#Potência Inversa\n",
        "def potencia_inv(A,tol):\n",
        "    k = 0; kmax = 10000; erro = np.inf;\n",
        "    n = np.shape(A)[0]; y0 = np.zeros(n); y0[0] = 1;\n",
        "\n",
        "    while(erro > tol and k < kmax):\n",
        "        x = np.linalg.solve(A,y0);\n",
        "        y = x/np.linalg.norm(x);\n",
        "        erro = np.abs(np.abs(y0.dot(y))-1);\n",
        "        y0 = y; k = k+1;\n",
        "\n",
        "    lambda_ = y.dot(A.dot(y));\n",
        "    return lambda_, y, k\n",
        "\n",
        "# Exemplo\n",
        "A = np.array([[-4, 14, 0],  \n",
        "              [ -5, 13, 0],\n",
        "              [ -1, 0,2]], dtype='double')\n",
        "print(A);\n",
        "\n",
        "(D_python,V_python) = np.linalg.eig(A); # usando uma função pronta para calcular todos os autovalores\n",
        "\n",
        "print('Cálculo do maior autovalor em módulo de A')\n",
        "(lambda_,y,k) = potencia(A,0.000001)\n",
        "print('Potência: %.4f  usando %d iterações' %(lambda_,k))\n",
        "print('Python: %.4f\\n' %(np.max(abs(D_python))))\n",
        "\n",
        "# input('\\n');\n",
        "\n",
        "print('Cálculo do menor autovalor em módulo de A')\n",
        "(lambda_inv,y,k) = potencia_inv(A,0.000001)\n",
        "print('Potência Inversa: %.4f  usando %d iterações' %(lambda_inv,k))\n",
        "print('Python: %.4f\\n' %(np.min(abs(D_python))))"
      ],
      "execution_count": null,
      "outputs": [
        {
          "output_type": "stream",
          "text": [
            "[[-4. 14.  0.]\n",
            " [-5. 13.  0.]\n",
            " [-1.  0.  2.]]\n",
            "Cálculo do maior autovalor em módulo de A\n",
            "Potência: 6.0043  usando 10 iterações\n",
            "Python: 6.0000\n",
            "\n",
            "Cálculo do menor autovalor em módulo de A\n",
            "Potência Inversa: 1.9982  usando 16 iterações\n",
            "Python: 2.0000\n",
            "\n"
          ],
          "name": "stdout"
        }
      ]
    }
  ]
}
