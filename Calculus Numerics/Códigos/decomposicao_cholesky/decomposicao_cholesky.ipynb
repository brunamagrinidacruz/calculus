{
 "cells": [
  {
   "cell_type": "markdown",
   "id": "weighted-witch",
   "metadata": {},
   "source": [
    "<img src=\"decomposicao-cholesky.png\" alt=\"Drawing\" style=\"height: 400px; width: 550px;\"/>   \n",
    "<img src=\"decomposicao-cholesky-termo-geral.png\" alt=\"Drawing\" style=\"height: 400px; width: 550px;\"/>   "
   ]
  },
  {
   "cell_type": "code",
   "execution_count": 3,
   "id": "spiritual-country",
   "metadata": {},
   "outputs": [
    {
     "name": "stdout",
     "output_type": "stream",
     "text": [
      "[[1.73205081 0.         0.        ]\n",
      " [1.15470054 1.91485422 0.        ]\n",
      " [0.         0.52223297 1.65144565]]\n"
     ]
    }
   ],
   "source": [
    "from math import sqrt\n",
    "import numpy as np\n",
    "\n",
    "def decomposicao_cholesky(A):\n",
    "    n = np.shape(A)[0]\n",
    "    H = np.zeros((n, n))\n",
    "    \n",
    "    for i in np.arange(n):\n",
    "        for j in np.arange(i+1):\n",
    "            tmp_sum = sum(H[i][k]*H[j][k] for k in np.arange(j))\n",
    "            if(i == j):\n",
    "                H[i][j] = sqrt(A[i][i] - tmp_sum)\n",
    "            else:\n",
    "                H[i][j] = ((A[i][j] - tmp_sum)/H[j][j])\n",
    "    return H\n",
    "\n",
    "A = [\n",
    "    [3, 2, 0],\n",
    "    [2,5,1],\n",
    "    [0,1,3]\n",
    "]\n",
    "H = decomposicao_cholesky(A)\n",
    "\n",
    "print(H)"
   ]
  }
 ],
 "metadata": {
  "kernelspec": {
   "display_name": "Python 3",
   "language": "python",
   "name": "python3"
  },
  "language_info": {
   "codemirror_mode": {
    "name": "ipython",
    "version": 3
   },
   "file_extension": ".py",
   "mimetype": "text/x-python",
   "name": "python",
   "nbconvert_exporter": "python",
   "pygments_lexer": "ipython3",
   "version": "3.8.5"
  }
 },
 "nbformat": 4,
 "nbformat_minor": 5
}
