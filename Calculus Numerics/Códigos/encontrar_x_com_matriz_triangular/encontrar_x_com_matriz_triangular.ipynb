{
 "cells": [
  {
   "cell_type": "markdown",
   "id": "endangered-constitution",
   "metadata": {},
   "source": [
    "<img src=\"encontrar_x_com_matriz_superior.png\" alt=\"Drawing\" style=\"height: 400px; width: 550px;\"/>"
   ]
  },
  {
   "cell_type": "code",
   "execution_count": 3,
   "id": "conservative-civilization",
   "metadata": {},
   "outputs": [
    {
     "name": "stdout",
     "output_type": "stream",
     "text": [
      "[-3.0000000000000004, 5.000000000000001, 0.0]\n"
     ]
    }
   ],
   "source": [
    "# Encontrar o valor x em Ax=b sendo A uma matriz triangular superior\n",
    "\n",
    "def encontrar_x_com_matriz_superior(A, b):\n",
    "    n = len(b) # Tamanho do vetor resultado (x)\n",
    "    x = [0]*n\n",
    "    x[n-1] = b[n-1]/A[n-1][n-1]\n",
    "    \n",
    "    for i in list(range(n-1, 0, -1)):\n",
    "        somatorio = 0\n",
    "        for j in list(range(i+1, n+1, 1)):\n",
    "            somatorio += A[i-1][j-1]*x[j-1]\n",
    "        x[i-1] = (b[i-1]-somatorio)/A[i-1][i-1]\n",
    "        \n",
    "    return x\n",
    "\n",
    "A = [\n",
    "    [3, 2, 4],\n",
    "    [0, (1/3), (2/3)],\n",
    "    [0, 0, 1]\n",
    "]\n",
    "b = [1, (5/3), 0]\n",
    "x = encontrar_x_com_matriz_superior(A, b)\n",
    "\n",
    "print (x)"
   ]
  },
  {
   "cell_type": "markdown",
   "id": "operating-decision",
   "metadata": {},
   "source": [
    "<img src=\"encontrar_x_com_matriz_inferior.png\" alt=\"Drawing\" style=\"height: 400px; width: 550px;\"/>"
   ]
  },
  {
   "cell_type": "code",
   "execution_count": 4,
   "id": "touched-china",
   "metadata": {},
   "outputs": [
    {
     "name": "stdout",
     "output_type": "stream",
     "text": [
      "[3.0, 2.0, -3.0]\n"
     ]
    }
   ],
   "source": [
    "# Encontrar o valor x em Ax=b sendo A uma matriz triangular inferior\n",
    "\n",
    "def encontrar_x_com_matriz_inferior(A, b):\n",
    "    n = len(b) # Tamanho do vetor resultado (x)\n",
    "    x = [0]*n\n",
    "    x[0] = b[0]/A[0][0]\n",
    "    \n",
    "    for i in list(range(1, n, 1)):\n",
    "        somatorio = 0\n",
    "        for j in list(range(0, i, 1)):\n",
    "            somatorio += A[i][j]*x[j]\n",
    "        x[i] = (b[i]-somatorio)/A[i][i]\n",
    "        \n",
    "    return x\n",
    "\n",
    "A = [\n",
    "    [1, 0, 0],\n",
    "    [1, 1, 0],\n",
    "    [-2, 4, 1]\n",
    "]\n",
    "b = [3, 5, -1]\n",
    "x = encontrar_x_com_matriz_inferior(A, b)\n",
    "\n",
    "print (x)"
   ]
  }
 ],
 "metadata": {
  "kernelspec": {
   "display_name": "Python 3",
   "language": "python",
   "name": "python3"
  },
  "language_info": {
   "codemirror_mode": {
    "name": "ipython",
    "version": 3
   },
   "file_extension": ".py",
   "mimetype": "text/x-python",
   "name": "python",
   "nbconvert_exporter": "python",
   "pygments_lexer": "ipython3",
   "version": "3.8.5"
  }
 },
 "nbformat": 4,
 "nbformat_minor": 5
}
