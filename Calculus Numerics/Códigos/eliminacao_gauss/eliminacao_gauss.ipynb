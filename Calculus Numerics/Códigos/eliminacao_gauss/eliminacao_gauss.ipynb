{
 "cells": [
  {
   "cell_type": "markdown",
   "id": "likely-hierarchy",
   "metadata": {},
   "source": [
    "<img src=\"eliminacao_gauss.png\" alt=\"Drawing\" style=\"height: 400px; width: 550px;\"/> "
   ]
  },
  {
   "cell_type": "code",
   "execution_count": 1,
   "id": "widespread-bread",
   "metadata": {},
   "outputs": [
    {
     "name": "stdout",
     "output_type": "stream",
     "text": [
      "[[ 1  2  0]\n",
      " [ 1  1  1]\n",
      " [-2  4 -3]]\n",
      "[ 3  2 -3]\n"
     ]
    }
   ],
   "source": [
    "import numpy as np\n",
    "def eliminacao_gauss(A, b):\n",
    "    # Ax=b\n",
    "    # Retorna A'x=b' equivalente a Ax=b\n",
    "    n = len(b)\n",
    "    for k in range(0, n-1):\n",
    "        for i in range(k+1, n):\n",
    "            if A[i, k] != 0.0:\n",
    "                lam = A[i, k]/A[k,k]\n",
    "                A[i, k+1:n] = A[i, k+1:n] - lam*A[k, k+1:n]\n",
    "                b[i] = b[i] - lam*b[k]\n",
    "    return A, b\n",
    "\n",
    "A = np.array([[1, 2, 0], [1, 3, 1], [-2, 0, 1]])\n",
    "b = np.array([3, 5, -1])\n",
    "U, b = eliminacao_gauss(A, b)\n",
    "print(U)\n",
    "print(b)"
   ]
  },
  {
   "cell_type": "markdown",
   "id": "interstate-postcard",
   "metadata": {},
   "source": [
    "Observação: \n",
    "\"A matriz U que sai do código Eliminação de Gauss é diferente da U do código de Decomposição LU. Eu implementei no Eliminação de Gauss de forma que altera a U apenas nos índices que tenho interesse, então repare nos elementos da diagonal e acima dela, daí fará sentido. Isso não dá problema porque utilizo a substituição regressiva e os elementos que eram para resultar em 0 não interferem.\"  \n",
    "- Código LU: [{1,2,0},{0,1,1},{0,0,-3}]\n",
    "- Eliminação de Gauss: [{1,2,0},{1(diferente e não interfere),  1,1},{-2(diferente e não interfere), 0(diferente e não interfere),  -3}] "
   ]
  }
 ],
 "metadata": {
  "kernelspec": {
   "display_name": "Python 3",
   "language": "python",
   "name": "python3"
  },
  "language_info": {
   "codemirror_mode": {
    "name": "ipython",
    "version": 3
   },
   "file_extension": ".py",
   "mimetype": "text/x-python",
   "name": "python",
   "nbconvert_exporter": "python",
   "pygments_lexer": "ipython3",
   "version": "3.8.5"
  }
 },
 "nbformat": 4,
 "nbformat_minor": 5
}
