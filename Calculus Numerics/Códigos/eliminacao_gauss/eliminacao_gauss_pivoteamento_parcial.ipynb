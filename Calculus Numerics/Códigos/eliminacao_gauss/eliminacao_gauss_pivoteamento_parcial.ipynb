{
 "cells": [
  {
   "cell_type": "markdown",
   "id": "closing-banner",
   "metadata": {},
   "source": [
    "<img src=\"estrategia_pivoteamento_parcial.png\" alt=\"Drawing\" style=\"height: 400px; width: 550px;\"/>   \n",
    "Depois de permutar, basta realizar a Eliminação de Gauss até encontrar a necessidade do pivoteamento parcial novamente (se houver) e repetir os passos"
   ]
  },
  {
   "cell_type": "code",
   "execution_count": 2,
   "id": "loose-enough",
   "metadata": {},
   "outputs": [
    {
     "name": "stdout",
     "output_type": "stream",
     "text": [
      "[[ 1.  1.  1.]\n",
      " [ 0. -1.  9.]\n",
      " [ 0.  0. 91.]] [   0  -48 -455]\n"
     ]
    }
   ],
   "source": [
    "# Neste exemplo estamos fazendo o pivotemaento em todo caso, não só quando um elemento < E \n",
    "\n",
    "import numpy as np\n",
    "\n",
    "def eliminacao_gauss_pivoteamento_parcial(A, b):\n",
    "    n = np.shape(A)[0]\n",
    "    newA = np.copy(A)\n",
    "    newb = np.copy(b)\n",
    "    \n",
    "    for k in np.arange(n-1):\n",
    "        # Realizando o Pivoteamento Parcial\n",
    "        p = np.argmax(np.abs(newA[k:n, k]))\n",
    "        newA[[k, p], k:n] = newA[[p,k], k:n]\n",
    "        newb[[k,p]] = newb[[p, k]]\n",
    "        \n",
    "        # Eliminacao de Gauss sem o Pivoteamento Parcial\n",
    "        for i in np.arange(k+1, n):\n",
    "            m = -newA[i, k]/newA[k,k]\n",
    "            newA[i, k:n] = newA[i, k:n] + m*newA[k, k:n]\n",
    "            newb[i] = newb[i] + m*newb[k]\n",
    "    \n",
    "    return newA, newb\n",
    "\n",
    "A = np.array([\n",
    "    [1, 1, 1],\n",
    "    [1, 0, 10],\n",
    "    [0, 10, 1]], dtype='double'\n",
    ")\n",
    "b = [0, -48, 25]\n",
    "\n",
    "newA, newb = eliminacao_gauss_pivoteamento_parcial(A, b)\n",
    "print(newA, newb)"
   ]
  }
 ],
 "metadata": {
  "kernelspec": {
   "display_name": "Python 3",
   "language": "python",
   "name": "python3"
  },
  "language_info": {
   "codemirror_mode": {
    "name": "ipython",
    "version": 3
   },
   "file_extension": ".py",
   "mimetype": "text/x-python",
   "name": "python",
   "nbconvert_exporter": "python",
   "pygments_lexer": "ipython3",
   "version": "3.8.5"
  }
 },
 "nbformat": 4,
 "nbformat_minor": 5
}
