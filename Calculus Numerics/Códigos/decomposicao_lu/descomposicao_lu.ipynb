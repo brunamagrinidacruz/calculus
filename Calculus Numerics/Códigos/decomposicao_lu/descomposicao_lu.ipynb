{
 "cells": [
  {
   "cell_type": "markdown",
   "id": "breeding-reflection",
   "metadata": {},
   "source": [
    "Condição de existência da decomposição LU para uma matriz A  \n",
    "<img src=\"menores_principais.png\" alt=\"Drawing\" style=\"height: 400px; width: 550px;\"/>  \n",
    "Exemplo:  \n",
    "<img src=\"menores_principais_exemplo.png\" alt=\"Drawing\" style=\"height: 300px; width: 450px;\"/>  "
   ]
  },
  {
   "cell_type": "markdown",
   "id": "reasonable-elephant",
   "metadata": {},
   "source": [
    "<img src=\"decomposicao_lu.png\" alt=\"Drawing\" style=\"height: 400px; width: 550px;\"/> "
   ]
  },
  {
   "cell_type": "code",
   "execution_count": 2,
   "id": "exempt-valuation",
   "metadata": {},
   "outputs": [
    {
     "name": "stdout",
     "output_type": "stream",
     "text": [
      "[[ 1.  0.  0.]\n",
      " [ 1.  1.  0.]\n",
      " [-2.  4.  1.]]\n",
      "[[ 1.  2.  0.]\n",
      " [ 0.  1.  1.]\n",
      " [ 0.  0. -3.]]\n",
      "Matrix([[1, 0, 0], [1, 1, 0], [-2, 4, 1]])\n",
      "Matrix([[1, 2, 0], [0, 1, 1], [0, 0, -3]])\n"
     ]
    }
   ],
   "source": [
    "# Codificando a Decomposicao LU\n",
    "import numpy as np\n",
    "def decomposicao_lu(A):\n",
    "    # A: matriz quadrada\n",
    "    # L, U: matrizes triangular inferior e superior, respectivamente\n",
    "    n = np.shape(A)[0]\n",
    "    L = np.eye(n)\n",
    "    U = np.zeros((n, n))\n",
    "    for k in np.arange(n):\n",
    "        for j in np.arange(k, n):\n",
    "            U[k,j]=A[k,j]\n",
    "            for s in np.arange(k):\n",
    "                U[k, j] = U[k,j] - L[k, s]*U[s, j]\n",
    "            for i in np.arange(k+1, n):\n",
    "                L[i, k] = A[i, k]\n",
    "                for s in np.arange(k):\n",
    "                    L[i,k] = L[i, k] - L[i, s] * U[s, k]\n",
    "                L[i, k] = L[i, k]/U[k, k]\n",
    "    return L, U\n",
    "\n",
    "A = np.array([[1, 2, 0], [1, 3, 1], [-2, 0, 1]])\n",
    "L, U = decomposicao_lu(A)\n",
    "print(L)\n",
    "print (U)\n",
    "\n",
    "# Utilizando a Decomposicao LU do sympy\n",
    "import sympy\n",
    "A = sympy.Matrix([[1, 2, 0], [1, 3, 1], [-2, 0, 1]])\n",
    "L, U, _ = A.LUdecomposition()\n",
    "print(L)\n",
    "print(U)"
   ]
  }
 ],
 "metadata": {
  "kernelspec": {
   "display_name": "Python 3",
   "language": "python",
   "name": "python3"
  },
  "language_info": {
   "codemirror_mode": {
    "name": "ipython",
    "version": 3
   },
   "file_extension": ".py",
   "mimetype": "text/x-python",
   "name": "python",
   "nbconvert_exporter": "python",
   "pygments_lexer": "ipython3",
   "version": "3.8.5"
  }
 },
 "nbformat": 4,
 "nbformat_minor": 5
}
