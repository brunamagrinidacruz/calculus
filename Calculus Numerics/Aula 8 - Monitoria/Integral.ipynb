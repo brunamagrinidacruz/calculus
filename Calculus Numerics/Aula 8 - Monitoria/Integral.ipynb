{
  "nbformat": 4,
  "nbformat_minor": 0,
  "metadata": {
    "colab": {
      "name": "Integral.ipynb",
      "provenance": [],
      "collapsed_sections": []
    },
    "kernelspec": {
      "name": "python3",
      "display_name": "Python 3"
    },
    "language_info": {
      "name": "python"
    }
  },
  "cells": [
    {
      "cell_type": "code",
      "metadata": {
        "colab": {
          "base_uri": "https://localhost:8080/"
        },
        "id": "4klUkYmOA1gg",
        "outputId": "fdc22387-3259-430c-8491-f632a6805cbf"
      },
      "source": [
        "import numpy as np\n",
        "from scipy import linalg as lin\n",
        "import scipy as sci\n",
        "import math as m\n",
        "import matplotlib.pyplot as plt\n",
        "from sympy import *\n",
        "import time\n",
        "\n",
        "def trapezio(xi,yi):\n",
        "    N = len(xi)-1; # numero de intervalos é o número de pontos menos 1\n",
        "    h = xi[1]-xi[0]; # espaçamento entre dois pontos consecutivos é h\n",
        "\n",
        "    integral = (h/2)*(yi[0]+yi[N]) + h*np.sum(yi[1:N]);\n",
        "\n",
        "    return integral;\n",
        "\n",
        "def simpson13(xi,yi):\n",
        "    N = len(xi)-1; # numero de intervalos é o número de pontos menos 1\n",
        "    h = xi[1]-xi[0]; # espaçamento entre dois pontos consecutivos é h\n",
        "\n",
        "    integral = 4*np.sum(yi[1:N:2]) + 2*np.sum(yi[2:N-1:2]);\n",
        "    integral = (h/3)*(yi[0] + integral + yi[N]);\n",
        "\n",
        "    return integral;\n",
        "\n",
        "def simpson38(xi,yi):\n",
        "    N = len(xi)-1; # numero de intervalos é o número de pontos menos 1\n",
        "    h = xi[1]-xi[0]; # espaçamento entre dois pontos consecutivos é h\n",
        "\n",
        "    integral = 3*np.sum(yi[1:N-1:3]) + 3*np.sum(yi[2:N:3]) + 2*np.sum(yi[3:N-2:3]);\n",
        "    integral = (3.0*h/8.0)*(yi[0] + integral + yi[N]);\n",
        "\n",
        "    return integral;\n",
        "\n",
        "N = 30;\n",
        "xi = np.linspace(0,1,N+1,endpoint=True);\n",
        "yi = xi*np.exp(xi);\n",
        "\n",
        "int_trapz = trapezio(xi,yi);\n",
        "print('Integral com regra do trapézio: %.5f'%(int_trapz))\n",
        "print('Integral exata: %.5f'%(np.exp(xi[N])*(xi[N]-1)-np.exp(xi[0])*(xi[0]-1)))\n",
        "\n",
        "xi = np.linspace(0,1,N+1,endpoint=True);\n",
        "yi = xi*np.exp(xi);\n",
        "\n",
        "int_simp13 = simpson13(xi,yi);\n",
        "print('Integral com regra do 1/3 de Simpson: %.6f'%(int_simp13))\n",
        "print('Integral exata: %.5f'%(np.exp(xi[N])*(xi[N]-1)-np.exp(xi[0])*(xi[0]-1)))\n",
        "\n",
        "xi = np.linspace(0,1,N+1,endpoint=True);\n",
        "yi = xi*np.exp(xi);\n",
        "\n",
        "int_simp38 = simpson38(xi,yi);\n",
        "print('Integral com regra do 3/8 de Simpson: %.6f'%(int_simp38))\n",
        "print('Integral exata: %.5f'%(np.exp(xi[N])*(xi[N]-1)-np.exp(xi[0])*(xi[0]-1)))\n",
        "\n",
        "# Aplicação notas dos alunos\n",
        "m = 4.0; sigma = 1.5;\n",
        "f = lambda x: (1/(sigma*np.sqrt(2*np.pi)))*np.exp(-((x-m)**2)/(2*sigma**2));\n",
        "N = 30\n",
        "xi = np.linspace(3,5,N+1,endpoint=True);\n",
        "yi = f(xi);\n",
        "prob_simp13 = simpson13(xi,yi);\n",
        "print('Probabilidade: %.6f'%(prob_simp13))"
      ],
      "execution_count": null,
      "outputs": [
        {
          "output_type": "stream",
          "text": [
            "Integral com regra do trapézio: 1.00041\n",
            "Integral exata: 1.00000\n",
            "Integral com regra do 1/3 de Simpson: 1.000000\n",
            "Integral exata: 1.00000\n",
            "Integral com regra do 3/8 de Simpson: 1.000000\n",
            "Integral exata: 1.00000\n",
            "Probabilidade: 0.495015\n"
          ],
          "name": "stdout"
        }
      ]
    }
  ]
}
